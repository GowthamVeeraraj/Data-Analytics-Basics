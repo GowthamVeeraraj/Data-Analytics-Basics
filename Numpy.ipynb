{
 "cells": [
  {
   "cell_type": "code",
   "execution_count": 88,
   "id": "af807523",
   "metadata": {},
   "outputs": [],
   "source": [
    "import numpy as np\n",
    "import pandas as pd"
   ]
  },
  {
   "cell_type": "code",
   "execution_count": 89,
   "id": "831f8fd3",
   "metadata": {},
   "outputs": [
    {
     "data": {
      "text/plain": [
       "array([ 0,  1,  2,  3,  4,  5,  6,  7,  8,  9, 10, 11, 12, 13, 14])"
      ]
     },
     "execution_count": 89,
     "metadata": {},
     "output_type": "execute_result"
    }
   ],
   "source": [
    "a=np.arange(15)\n",
    "a"
   ]
  },
  {
   "cell_type": "code",
   "execution_count": 90,
   "id": "8e8c32e2",
   "metadata": {},
   "outputs": [
    {
     "data": {
      "text/plain": [
       "(15,)"
      ]
     },
     "execution_count": 90,
     "metadata": {},
     "output_type": "execute_result"
    }
   ],
   "source": [
    "a.shape"
   ]
  },
  {
   "cell_type": "code",
   "execution_count": 91,
   "id": "6f23cea4",
   "metadata": {},
   "outputs": [
    {
     "data": {
      "text/plain": [
       "15"
      ]
     },
     "execution_count": 91,
     "metadata": {},
     "output_type": "execute_result"
    }
   ],
   "source": [
    "a.size"
   ]
  },
  {
   "cell_type": "code",
   "execution_count": 92,
   "id": "48c00577",
   "metadata": {},
   "outputs": [
    {
     "data": {
      "text/plain": [
       "dtype('int32')"
      ]
     },
     "execution_count": 92,
     "metadata": {},
     "output_type": "execute_result"
    }
   ],
   "source": [
    "a.dtype"
   ]
  },
  {
   "cell_type": "code",
   "execution_count": 93,
   "id": "ab2cc1dc",
   "metadata": {},
   "outputs": [
    {
     "data": {
      "text/plain": [
       "1"
      ]
     },
     "execution_count": 93,
     "metadata": {},
     "output_type": "execute_result"
    }
   ],
   "source": [
    "a.ndim"
   ]
  },
  {
   "cell_type": "code",
   "execution_count": 94,
   "id": "fcb862fc",
   "metadata": {},
   "outputs": [
    {
     "data": {
      "text/plain": [
       "4"
      ]
     },
     "execution_count": 94,
     "metadata": {},
     "output_type": "execute_result"
    }
   ],
   "source": [
    "a.itemsize#no of bytes"
   ]
  },
  {
   "cell_type": "code",
   "execution_count": 95,
   "id": "3a6cef7e",
   "metadata": {},
   "outputs": [
    {
     "data": {
      "text/plain": [
       "numpy.ndarray"
      ]
     },
     "execution_count": 95,
     "metadata": {},
     "output_type": "execute_result"
    }
   ],
   "source": [
    "type(a)"
   ]
  },
  {
   "cell_type": "code",
   "execution_count": 96,
   "id": "3987b7aa",
   "metadata": {},
   "outputs": [
    {
     "data": {
      "text/plain": [
       "array([[ 0,  1,  2],\n",
       "       [ 3,  4,  5],\n",
       "       [ 6,  7,  8],\n",
       "       [ 9, 10, 11],\n",
       "       [12, 13, 14]])"
      ]
     },
     "execution_count": 96,
     "metadata": {},
     "output_type": "execute_result"
    }
   ],
   "source": [
    "a=np.arange(15).reshape(5,3)\n",
    "a"
   ]
  },
  {
   "cell_type": "code",
   "execution_count": 97,
   "id": "2bfa8781",
   "metadata": {},
   "outputs": [
    {
     "data": {
      "text/plain": [
       "15"
      ]
     },
     "execution_count": 97,
     "metadata": {},
     "output_type": "execute_result"
    }
   ],
   "source": [
    "a.size"
   ]
  },
  {
   "cell_type": "code",
   "execution_count": 98,
   "id": "4e741309",
   "metadata": {},
   "outputs": [
    {
     "data": {
      "text/plain": [
       "(5, 3)"
      ]
     },
     "execution_count": 98,
     "metadata": {},
     "output_type": "execute_result"
    }
   ],
   "source": [
    "a.shape"
   ]
  },
  {
   "cell_type": "code",
   "execution_count": 99,
   "id": "16467614",
   "metadata": {},
   "outputs": [
    {
     "data": {
      "text/plain": [
       "2"
      ]
     },
     "execution_count": 99,
     "metadata": {},
     "output_type": "execute_result"
    }
   ],
   "source": [
    "a.ndim"
   ]
  },
  {
   "cell_type": "code",
   "execution_count": 100,
   "id": "fad5ff01",
   "metadata": {},
   "outputs": [
    {
     "data": {
      "text/plain": [
       "dtype('int32')"
      ]
     },
     "execution_count": 100,
     "metadata": {},
     "output_type": "execute_result"
    }
   ],
   "source": [
    "a.dtype"
   ]
  },
  {
   "cell_type": "code",
   "execution_count": 101,
   "id": "266883e2",
   "metadata": {},
   "outputs": [
    {
     "data": {
      "text/plain": [
       "array([1., 2., 3.])"
      ]
     },
     "execution_count": 101,
     "metadata": {},
     "output_type": "execute_result"
    }
   ],
   "source": [
    "a=np.array([1,2,3.0])\n",
    "a"
   ]
  },
  {
   "cell_type": "code",
   "execution_count": 102,
   "id": "1837be48",
   "metadata": {},
   "outputs": [
    {
     "data": {
      "text/plain": [
       "dtype('float64')"
      ]
     },
     "execution_count": 102,
     "metadata": {},
     "output_type": "execute_result"
    }
   ],
   "source": [
    "a.dtype"
   ]
  },
  {
   "cell_type": "code",
   "execution_count": 103,
   "id": "230adfb7",
   "metadata": {},
   "outputs": [
    {
     "data": {
      "text/plain": [
       "array([1.+0.j, 2.+0.j, 3.+0.j, 0.+0.j])"
      ]
     },
     "execution_count": 103,
     "metadata": {},
     "output_type": "execute_result"
    }
   ],
   "source": [
    "a=np.array([1,2,3.0,0],dtype=\"complex\")\n",
    "a"
   ]
  },
  {
   "cell_type": "code",
   "execution_count": 104,
   "id": "447f7012",
   "metadata": {},
   "outputs": [
    {
     "data": {
      "text/plain": [
       "array([ True,  True,  True, False])"
      ]
     },
     "execution_count": 104,
     "metadata": {},
     "output_type": "execute_result"
    }
   ],
   "source": [
    "a=np.array([1,2,3.0,0],dtype=\"bool\")\n",
    "a"
   ]
  },
  {
   "cell_type": "code",
   "execution_count": null,
   "id": "567887e1",
   "metadata": {},
   "outputs": [],
   "source": []
  },
  {
   "cell_type": "code",
   "execution_count": 105,
   "id": "48627c33",
   "metadata": {},
   "outputs": [
    {
     "data": {
      "text/plain": [
       "array([[1., 2., 3., 0.],\n",
       "       [4., 7., 5., 5.]])"
      ]
     },
     "execution_count": 105,
     "metadata": {},
     "output_type": "execute_result"
    }
   ],
   "source": [
    "a=np.array([[1,2,3.0,0],[4,7,5,5]])\n",
    "a"
   ]
  },
  {
   "cell_type": "code",
   "execution_count": 106,
   "id": "90e34af7",
   "metadata": {},
   "outputs": [
    {
     "data": {
      "text/plain": [
       "2"
      ]
     },
     "execution_count": 106,
     "metadata": {},
     "output_type": "execute_result"
    }
   ],
   "source": [
    "a.ndim"
   ]
  },
  {
   "cell_type": "code",
   "execution_count": 107,
   "id": "e01fb438",
   "metadata": {},
   "outputs": [
    {
     "data": {
      "text/plain": [
       "(2, 4)"
      ]
     },
     "execution_count": 107,
     "metadata": {},
     "output_type": "execute_result"
    }
   ],
   "source": [
    "a.shape"
   ]
  },
  {
   "cell_type": "code",
   "execution_count": 108,
   "id": "abe5ce5a",
   "metadata": {},
   "outputs": [
    {
     "data": {
      "text/plain": [
       "array([3, 4, 5])"
      ]
     },
     "execution_count": 108,
     "metadata": {},
     "output_type": "execute_result"
    }
   ],
   "source": [
    "a=np.array((3,4,5))\n",
    "a"
   ]
  },
  {
   "cell_type": "code",
   "execution_count": 109,
   "id": "692d4949",
   "metadata": {},
   "outputs": [
    {
     "data": {
      "text/plain": [
       "array([[1, 1, 1],\n",
       "       [1, 1, 1]], dtype=int8)"
      ]
     },
     "execution_count": 109,
     "metadata": {},
     "output_type": "execute_result"
    }
   ],
   "source": [
    "np.ones((2,3),dtype=np.int8)"
   ]
  },
  {
   "cell_type": "code",
   "execution_count": 110,
   "id": "65bb39e0",
   "metadata": {},
   "outputs": [
    {
     "data": {
      "text/plain": [
       "array([[0, 0, 0],\n",
       "       [0, 0, 0]], dtype=int8)"
      ]
     },
     "execution_count": 110,
     "metadata": {},
     "output_type": "execute_result"
    }
   ],
   "source": [
    "np.zeros((2,3),dtype=np.int8)"
   ]
  },
  {
   "cell_type": "code",
   "execution_count": 111,
   "id": "0e57d2d0",
   "metadata": {},
   "outputs": [
    {
     "data": {
      "text/plain": [
       "array([[57,  5,  0],\n",
       "       [ 0, 32, 32]], dtype=int8)"
      ]
     },
     "execution_count": 111,
     "metadata": {},
     "output_type": "execute_result"
    }
   ],
   "source": [
    "np.empty((2,3),dtype=np.int8)"
   ]
  },
  {
   "cell_type": "code",
   "execution_count": 112,
   "id": "f2b4992c",
   "metadata": {},
   "outputs": [
    {
     "data": {
      "text/plain": [
       "array([10, 15, 20, 25, 30, 35, 40])"
      ]
     },
     "execution_count": 112,
     "metadata": {},
     "output_type": "execute_result"
    }
   ],
   "source": [
    "np.arange(10,45,5)"
   ]
  },
  {
   "cell_type": "code",
   "execution_count": 116,
   "id": "255b0f86",
   "metadata": {},
   "outputs": [
    {
     "data": {
      "text/plain": [
       "array([[10.  , 10.85, 11.7 , 12.55, 13.4 , 14.25, 15.1 ],\n",
       "       [15.95, 16.8 , 17.65, 18.5 , 19.35, 20.2 , 21.05],\n",
       "       [21.9 , 22.75, 23.6 , 24.45, 25.3 , 26.15, 27.  ],\n",
       "       [27.85, 28.7 , 29.55, 30.4 , 31.25, 32.1 , 32.95],\n",
       "       [33.8 , 34.65, 35.5 , 36.35, 37.2 , 38.05, 38.9 ],\n",
       "       [39.75, 40.6 , 41.45, 42.3 , 43.15, 44.  , 44.85]])"
      ]
     },
     "execution_count": 116,
     "metadata": {},
     "output_type": "execute_result"
    }
   ],
   "source": [
    "np.arange(10,45,0.85).reshape(-1,7)"
   ]
  },
  {
   "cell_type": "code",
   "execution_count": 224,
   "id": "26a9529c",
   "metadata": {},
   "outputs": [
    {
     "data": {
      "text/plain": [
       "array([[[10.  , 10.85, 11.7 , 12.55, 13.4 , 14.25, 15.1 ],\n",
       "        [15.95, 16.8 , 17.65, 18.5 , 19.35, 20.2 , 21.05]],\n",
       "\n",
       "       [[21.9 , 22.75, 23.6 , 24.45, 25.3 , 26.15, 27.  ],\n",
       "        [27.85, 28.7 , 29.55, 30.4 , 31.25, 32.1 , 32.95]],\n",
       "\n",
       "       [[33.8 , 34.65, 35.5 , 36.35, 37.2 , 38.05, 38.9 ],\n",
       "        [39.75, 40.6 , 41.45, 42.3 , 43.15, 44.  , 44.85]]])"
      ]
     },
     "execution_count": 224,
     "metadata": {},
     "output_type": "execute_result"
    }
   ],
   "source": [
    "np.arange(10,45,0.85).reshape(3,2,7)"
   ]
  },
  {
   "cell_type": "code",
   "execution_count": 225,
   "id": "edf8399e",
   "metadata": {},
   "outputs": [
    {
     "data": {
      "text/plain": [
       "array([0.  , 0.25, 0.5 , 0.75, 1.  , 1.25, 1.5 , 1.75, 2.  ])"
      ]
     },
     "execution_count": 225,
     "metadata": {},
     "output_type": "execute_result"
    }
   ],
   "source": [
    "np.linspace(0,2,9)"
   ]
  },
  {
   "cell_type": "code",
   "execution_count": 226,
   "id": "a1742233",
   "metadata": {},
   "outputs": [
    {
     "data": {
      "text/plain": [
       "array([0.        , 0.22222222, 0.44444444, 0.66666667, 0.88888889,\n",
       "       1.11111111, 1.33333333, 1.55555556, 1.77777778])"
      ]
     },
     "execution_count": 226,
     "metadata": {},
     "output_type": "execute_result"
    }
   ],
   "source": [
    "np.linspace(0,2,9,endpoint=False)"
   ]
  },
  {
   "cell_type": "code",
   "execution_count": 227,
   "id": "99a00fb5",
   "metadata": {},
   "outputs": [
    {
     "data": {
      "text/plain": [
       "(array([0.        , 0.22222222, 0.44444444, 0.66666667, 0.88888889,\n",
       "        1.11111111, 1.33333333, 1.55555556, 1.77777778]),\n",
       " 0.2222222222222222)"
      ]
     },
     "execution_count": 227,
     "metadata": {},
     "output_type": "execute_result"
    }
   ],
   "source": [
    "np.linspace(0,2,9,endpoint=False,retstep=True)"
   ]
  },
  {
   "cell_type": "code",
   "execution_count": 228,
   "id": "61b23027",
   "metadata": {},
   "outputs": [
    {
     "data": {
      "text/plain": [
       "array([ 0.00000000e+00,  2.02047689e-02,  4.04260411e-02,  6.06803737e-02,\n",
       "        8.09844322e-02,  1.01355046e-01,  1.21809262e-01,  1.42364408e-01,\n",
       "        1.63038147e-01,  1.83848540e-01,  2.04814115e-01,  2.25953931e-01,\n",
       "        2.47287654e-01,  2.68835631e-01,  2.90618973e-01,  3.12659645e-01,\n",
       "        3.34980558e-01,  3.57605675e-01,  3.80560121e-01,  4.03870300e-01,\n",
       "        4.27564037e-01,  4.51670714e-01,  4.76221433e-01,  5.01249194e-01,\n",
       "        5.26789085e-01,  5.52878500e-01,  5.79557378e-01,  6.06868469e-01,\n",
       "        6.34857632e-01,  6.63574168e-01,  6.93071194e-01,  7.23406066e-01,\n",
       "        7.54640856e-01,  7.86842889e-01,  8.20085358e-01,  8.54448019e-01,\n",
       "        8.90017992e-01,  9.26890672e-01,  9.65170785e-01,  1.00497360e+00,\n",
       "        1.04642632e+00,  1.08966976e+00,  1.13486021e+00,  1.18217169e+00,\n",
       "        1.23179859e+00,  1.28395879e+00,  1.33889736e+00,  1.39689098e+00,\n",
       "        1.45825328e+00,  1.52334128e+00,  1.59256316e+00,  1.66638792e+00,\n",
       "        1.74535708e+00,  1.83009946e+00,  1.92134946e+00,  2.01997033e+00,\n",
       "        2.12698376e+00,  2.24360807e+00,  2.37130798e+00,  2.51186033e+00,\n",
       "        2.66744193e+00,  2.84074900e+00,  3.03516198e+00,  3.25497741e+00,\n",
       "        3.50574098e+00,  3.79473717e+00,  4.13172899e+00,  4.53011021e+00,\n",
       "        5.00876653e+00,  5.59521221e+00,  6.33115371e+00,  7.28299562e+00,\n",
       "        8.56330075e+00,  1.03793326e+01,  1.31591743e+01,  1.79525753e+01,\n",
       "        2.82026667e+01,  6.56083971e+01, -2.01560495e+02, -3.97320762e+01,\n",
       "       -2.20281611e+01, -1.52296407e+01, -1.16305756e+01, -9.40116254e+00,\n",
       "       -7.88350018e+00, -6.78288787e+00, -5.94758615e+00, -5.29150350e+00,\n",
       "       -4.76215913e+00, -4.32573900e+00, -3.95947400e+00, -3.64747064e+00,\n",
       "       -3.37829782e+00, -3.14352329e+00, -2.93679072e+00, -2.75321778e+00,\n",
       "       -2.58899222e+00, -2.44109386e+00, -2.30709896e+00, -2.18503986e+00])"
      ]
     },
     "execution_count": 228,
     "metadata": {},
     "output_type": "execute_result"
    }
   ],
   "source": [
    "from numpy import pi\n",
    "np.linspace(0,2,9)\n",
    "x=np.linspace(0,2,100)\n",
    "np.tan(x)"
   ]
  },
  {
   "cell_type": "code",
   "execution_count": 229,
   "id": "3e721c21",
   "metadata": {},
   "outputs": [
    {
     "data": {
      "text/plain": [
       "1.6197751905438615"
      ]
     },
     "execution_count": 229,
     "metadata": {},
     "output_type": "execute_result"
    }
   ],
   "source": [
    "np.tan(45)"
   ]
  },
  {
   "cell_type": "code",
   "execution_count": 230,
   "id": "402d6982",
   "metadata": {},
   "outputs": [
    {
     "data": {
      "text/plain": [
       "array([0, 1, 2, 3, 4])"
      ]
     },
     "execution_count": 230,
     "metadata": {},
     "output_type": "execute_result"
    }
   ],
   "source": [
    "a=np.arange(5)\n",
    "a"
   ]
  },
  {
   "cell_type": "code",
   "execution_count": 231,
   "id": "8fc1403a",
   "metadata": {},
   "outputs": [
    {
     "data": {
      "text/plain": [
       "array([ 2,  3, 45,  6,  7])"
      ]
     },
     "execution_count": 231,
     "metadata": {},
     "output_type": "execute_result"
    }
   ],
   "source": [
    "b=np.array([2,3,45,6,7])\n",
    "b"
   ]
  },
  {
   "cell_type": "code",
   "execution_count": 232,
   "id": "51ef352e",
   "metadata": {},
   "outputs": [
    {
     "data": {
      "text/plain": [
       "array([ -2,  -2, -43,  -3,  -3])"
      ]
     },
     "execution_count": 232,
     "metadata": {},
     "output_type": "execute_result"
    }
   ],
   "source": [
    "c=a-b\n",
    "c"
   ]
  },
  {
   "cell_type": "code",
   "execution_count": 233,
   "id": "0a492249",
   "metadata": {},
   "outputs": [
    {
     "data": {
      "text/plain": [
       "array([ 2,  4, 47,  9, 11])"
      ]
     },
     "execution_count": 233,
     "metadata": {},
     "output_type": "execute_result"
    }
   ],
   "source": [
    "d=a+b\n",
    "d"
   ]
  },
  {
   "cell_type": "code",
   "execution_count": 234,
   "id": "a3136984",
   "metadata": {},
   "outputs": [
    {
     "data": {
      "text/plain": [
       "array([ 0,  1,  4,  9, 16], dtype=int32)"
      ]
     },
     "execution_count": 234,
     "metadata": {},
     "output_type": "execute_result"
    }
   ],
   "source": [
    "a**2"
   ]
  },
  {
   "cell_type": "code",
   "execution_count": 235,
   "id": "2e658cc1",
   "metadata": {},
   "outputs": [
    {
     "data": {
      "text/plain": [
       "array([ 0,  3, 90, 18, 28])"
      ]
     },
     "execution_count": 235,
     "metadata": {},
     "output_type": "execute_result"
    }
   ],
   "source": [
    "m=a*b\n",
    "m"
   ]
  },
  {
   "cell_type": "code",
   "execution_count": 236,
   "id": "c0f46333",
   "metadata": {},
   "outputs": [
    {
     "data": {
      "text/plain": [
       "array([ True,  True, False,  True,  True])"
      ]
     },
     "execution_count": 236,
     "metadata": {},
     "output_type": "execute_result"
    }
   ],
   "source": [
    "b<30"
   ]
  },
  {
   "cell_type": "code",
   "execution_count": 237,
   "id": "00b0ce88",
   "metadata": {},
   "outputs": [
    {
     "data": {
      "text/plain": [
       "array([[1., 1.],\n",
       "       [1., 1.]])"
      ]
     },
     "execution_count": 237,
     "metadata": {},
     "output_type": "execute_result"
    }
   ],
   "source": [
    "a=np.ones((2,2))\n",
    "a"
   ]
  },
  {
   "cell_type": "code",
   "execution_count": 238,
   "id": "69664a55",
   "metadata": {},
   "outputs": [
    {
     "data": {
      "text/plain": [
       "array([[2, 3],\n",
       "       [5, 6]])"
      ]
     },
     "execution_count": 238,
     "metadata": {},
     "output_type": "execute_result"
    }
   ],
   "source": [
    "b=np.array([[2,3],[5,6]])\n",
    "b"
   ]
  },
  {
   "cell_type": "code",
   "execution_count": 239,
   "id": "24f2a0fb",
   "metadata": {},
   "outputs": [
    {
     "data": {
      "text/plain": [
       "array([[3., 4.],\n",
       "       [6., 7.]])"
      ]
     },
     "execution_count": 239,
     "metadata": {},
     "output_type": "execute_result"
    }
   ],
   "source": [
    "c=a+b\n",
    "c"
   ]
  },
  {
   "cell_type": "code",
   "execution_count": 240,
   "id": "22c1e576",
   "metadata": {},
   "outputs": [
    {
     "data": {
      "text/plain": [
       "array([[-1., -2.],\n",
       "       [-4., -5.]])"
      ]
     },
     "execution_count": 240,
     "metadata": {},
     "output_type": "execute_result"
    }
   ],
   "source": [
    "d=a-b\n",
    "d"
   ]
  },
  {
   "cell_type": "code",
   "execution_count": 241,
   "id": "d0cf4391",
   "metadata": {},
   "outputs": [
    {
     "data": {
      "text/plain": [
       "array([[2., 3.],\n",
       "       [5., 6.]])"
      ]
     },
     "execution_count": 241,
     "metadata": {},
     "output_type": "execute_result"
    }
   ],
   "source": [
    "m=a*b\n",
    "m"
   ]
  },
  {
   "cell_type": "code",
   "execution_count": 242,
   "id": "841b23af",
   "metadata": {},
   "outputs": [
    {
     "data": {
      "text/plain": [
       "array([[7., 9.],\n",
       "       [7., 9.]])"
      ]
     },
     "execution_count": 242,
     "metadata": {},
     "output_type": "execute_result"
    }
   ],
   "source": [
    "x=a@b\n",
    "x"
   ]
  },
  {
   "cell_type": "code",
   "execution_count": 243,
   "id": "e74f99e2",
   "metadata": {},
   "outputs": [
    {
     "data": {
      "text/plain": [
       "array([[7., 9.],\n",
       "       [7., 9.]])"
      ]
     },
     "execution_count": 243,
     "metadata": {},
     "output_type": "execute_result"
    }
   ],
   "source": [
    "y=a.dot(b)\n",
    "y"
   ]
  },
  {
   "cell_type": "code",
   "execution_count": 244,
   "id": "5816c7d6",
   "metadata": {},
   "outputs": [],
   "source": [
    "from numpy import random"
   ]
  },
  {
   "cell_type": "code",
   "execution_count": 250,
   "id": "6ac157f7",
   "metadata": {},
   "outputs": [
    {
     "data": {
      "text/html": [
       "<div>\n",
       "<style scoped>\n",
       "    .dataframe tbody tr th:only-of-type {\n",
       "        vertical-align: middle;\n",
       "    }\n",
       "\n",
       "    .dataframe tbody tr th {\n",
       "        vertical-align: top;\n",
       "    }\n",
       "\n",
       "    .dataframe thead th {\n",
       "        text-align: right;\n",
       "    }\n",
       "</style>\n",
       "<table border=\"1\" class=\"dataframe\">\n",
       "  <thead>\n",
       "    <tr style=\"text-align: right;\">\n",
       "      <th></th>\n",
       "      <th>0</th>\n",
       "      <th>1</th>\n",
       "    </tr>\n",
       "  </thead>\n",
       "  <tbody>\n",
       "    <tr>\n",
       "      <th>count</th>\n",
       "      <td>3.000000</td>\n",
       "      <td>3.000000</td>\n",
       "    </tr>\n",
       "    <tr>\n",
       "      <th>mean</th>\n",
       "      <td>-0.667263</td>\n",
       "      <td>0.866340</td>\n",
       "    </tr>\n",
       "    <tr>\n",
       "      <th>std</th>\n",
       "      <td>0.278715</td>\n",
       "      <td>0.615286</td>\n",
       "    </tr>\n",
       "    <tr>\n",
       "      <th>min</th>\n",
       "      <td>-0.986597</td>\n",
       "      <td>0.156076</td>\n",
       "    </tr>\n",
       "    <tr>\n",
       "      <th>25%</th>\n",
       "      <td>-0.764430</td>\n",
       "      <td>0.681342</td>\n",
       "    </tr>\n",
       "    <tr>\n",
       "      <th>50%</th>\n",
       "      <td>-0.542264</td>\n",
       "      <td>1.206608</td>\n",
       "    </tr>\n",
       "    <tr>\n",
       "      <th>75%</th>\n",
       "      <td>-0.507596</td>\n",
       "      <td>1.221472</td>\n",
       "    </tr>\n",
       "    <tr>\n",
       "      <th>max</th>\n",
       "      <td>-0.472929</td>\n",
       "      <td>1.236337</td>\n",
       "    </tr>\n",
       "  </tbody>\n",
       "</table>\n",
       "</div>"
      ],
      "text/plain": [
       "              0         1\n",
       "count  3.000000  3.000000\n",
       "mean  -0.667263  0.866340\n",
       "std    0.278715  0.615286\n",
       "min   -0.986597  0.156076\n",
       "25%   -0.764430  0.681342\n",
       "50%   -0.542264  1.206608\n",
       "75%   -0.507596  1.221472\n",
       "max   -0.472929  1.236337"
      ]
     },
     "execution_count": 250,
     "metadata": {},
     "output_type": "execute_result"
    }
   ],
   "source": [
    "df=pd.DataFrame(np.random.randn(3,2))#standard normal distribution\n",
    "df.describe()"
   ]
  },
  {
   "cell_type": "code",
   "execution_count": 254,
   "id": "e180bbf3",
   "metadata": {},
   "outputs": [
    {
     "data": {
      "text/plain": [
       "array([6, 7, 4, 3, 7, 4, 5, 4, 5, 5])"
      ]
     },
     "execution_count": 254,
     "metadata": {},
     "output_type": "execute_result"
    }
   ],
   "source": [
    "np.random.randint(3,high=9,size=10)#randf"
   ]
  },
  {
   "cell_type": "code",
   "execution_count": 256,
   "id": "f87977ac",
   "metadata": {},
   "outputs": [
    {
     "name": "stderr",
     "output_type": "stream",
     "text": [
      "C:\\Users\\91829\\AppData\\Local\\Temp/ipykernel_16032/584448564.py:1: DeprecationWarning: This function is deprecated. Please call randint(1, 3 + 1) instead\n",
      "  np.random.random_integers(3,size=18)\n"
     ]
    },
    {
     "data": {
      "text/plain": [
       "array([1, 2, 3, 3, 3, 1, 2, 3, 3, 1, 1, 1, 3, 2, 3, 3, 3, 3])"
      ]
     },
     "execution_count": 256,
     "metadata": {},
     "output_type": "execute_result"
    }
   ],
   "source": [
    "np.random.random_integers(3,size=18)"
   ]
  },
  {
   "cell_type": "code",
   "execution_count": 288,
   "id": "1856e857",
   "metadata": {},
   "outputs": [
    {
     "data": {
      "text/plain": [
       "array([0.51230071, 0.8676505 , 0.7510143 , 0.22889659, 0.46773627])"
      ]
     },
     "execution_count": 288,
     "metadata": {},
     "output_type": "execute_result"
    }
   ],
   "source": [
    "np.random.random_sample(5)"
   ]
  },
  {
   "cell_type": "code",
   "execution_count": 351,
   "id": "c2cd4ed0",
   "metadata": {},
   "outputs": [
    {
     "name": "stdout",
     "output_type": "stream",
     "text": [
      "[0.21727576 0.56022994 0.4102154  0.84941208 0.04209711 0.56188716\n",
      " 0.8256372  0.06369897 0.6382048  0.50119001 0.12225362 0.22060307]\n"
     ]
    },
    {
     "data": {
      "text/plain": [
       "0.8494120829680231"
      ]
     },
     "execution_count": 351,
     "metadata": {},
     "output_type": "execute_result"
    }
   ],
   "source": [
    "a=np.random.random(12)\n",
    "print(a)\n",
    "a.sum()\n",
    "a.min()\n",
    "a.max()"
   ]
  },
  {
   "cell_type": "code",
   "execution_count": 347,
   "id": "58a78da9",
   "metadata": {},
   "outputs": [
    {
     "name": "stdout",
     "output_type": "stream",
     "text": [
      "[5 1 6 4 3 2]\n"
     ]
    }
   ],
   "source": [
    "a1=np.arange(1,7)\n",
    "np.random.shuffle(a1)\n",
    "print(a1)"
   ]
  },
  {
   "cell_type": "code",
   "execution_count": 358,
   "id": "c55f2589",
   "metadata": {},
   "outputs": [
    {
     "data": {
      "text/plain": [
       "array([[ 4,  5, 11],\n",
       "       [10,  7,  4],\n",
       "       [ 4,  8, 11],\n",
       "       [ 6,  3, 11]])"
      ]
     },
     "execution_count": 358,
     "metadata": {},
     "output_type": "execute_result"
    }
   ],
   "source": [
    "b=np.random.randint(1,12,size=12).reshape(4,3)\n",
    "b"
   ]
  },
  {
   "cell_type": "code",
   "execution_count": 361,
   "id": "85570138",
   "metadata": {},
   "outputs": [
    {
     "data": {
      "text/plain": [
       "array([20, 21, 23, 20])"
      ]
     },
     "execution_count": 361,
     "metadata": {},
     "output_type": "execute_result"
    }
   ],
   "source": [
    "b.sum(axis=1)"
   ]
  },
  {
   "cell_type": "code",
   "execution_count": 364,
   "id": "da5b3a29",
   "metadata": {},
   "outputs": [
    {
     "data": {
      "text/plain": [
       "array([4, 3, 4])"
      ]
     },
     "execution_count": 364,
     "metadata": {},
     "output_type": "execute_result"
    }
   ],
   "source": [
    "b.min(axis=0)"
   ]
  },
  {
   "cell_type": "code",
   "execution_count": 366,
   "id": "675670c0",
   "metadata": {},
   "outputs": [
    {
     "data": {
      "text/plain": [
       "array([[ 4,  5, 11],\n",
       "       [14, 12, 15],\n",
       "       [18, 20, 26],\n",
       "       [24, 23, 37]], dtype=int32)"
      ]
     },
     "execution_count": 366,
     "metadata": {},
     "output_type": "execute_result"
    }
   ],
   "source": [
    "b.cumsum(axis=0)"
   ]
  },
  {
   "cell_type": "markdown",
   "id": "a948b2bf",
   "metadata": {},
   "source": [
    "# universal functions--ufuncs"
   ]
  },
  {
   "cell_type": "code",
   "execution_count": 3,
   "id": "f500ee5d",
   "metadata": {},
   "outputs": [
    {
     "data": {
      "text/plain": [
       "[4, 6, 39, 11]"
      ]
     },
     "execution_count": 3,
     "metadata": {},
     "output_type": "execute_result"
    }
   ],
   "source": [
    "l1=[1,2,34,5]\n",
    "l2=[3,4,5,6]\n",
    "z=[]\n",
    "for i, j in zip(l1,l2):\n",
    "    z.append(i+j)\n",
    "z"
   ]
  },
  {
   "cell_type": "code",
   "execution_count": 4,
   "id": "78af5c4f",
   "metadata": {},
   "outputs": [],
   "source": [
    "import numpy as np"
   ]
  },
  {
   "cell_type": "code",
   "execution_count": 10,
   "id": "fdfbd1a5",
   "metadata": {},
   "outputs": [
    {
     "data": {
      "text/plain": [
       "numpy.ufunc"
      ]
     },
     "execution_count": 10,
     "metadata": {},
     "output_type": "execute_result"
    }
   ],
   "source": [
    "l1=[1,2,34,5]\n",
    "l2=[3,4,5,6]\n",
    "z=np.add(l1,l2)\n",
    "z\n",
    "type(np.add)"
   ]
  },
  {
   "cell_type": "code",
   "execution_count": 13,
   "id": "95d0af25",
   "metadata": {},
   "outputs": [
    {
     "name": "stdout",
     "output_type": "stream",
     "text": [
      "[4 6 39 11]\n"
     ]
    }
   ],
   "source": [
    "def xyz(x,y):\n",
    "    return x+y\n",
    "\n",
    "xyz=np.frompyfunc(xyz,2,1)\n",
    "print(xyz(l1,l2))\n"
   ]
  },
  {
   "cell_type": "code",
   "execution_count": 14,
   "id": "7b944a61",
   "metadata": {},
   "outputs": [
    {
     "data": {
      "text/plain": [
       "function"
      ]
     },
     "execution_count": 14,
     "metadata": {},
     "output_type": "execute_result"
    }
   ],
   "source": [
    "type(np.concatenate)"
   ]
  },
  {
   "cell_type": "code",
   "execution_count": 15,
   "id": "5e109441",
   "metadata": {},
   "outputs": [
    {
     "data": {
      "text/plain": [
       "array([ 4,  6, 39, 11])"
      ]
     },
     "execution_count": 15,
     "metadata": {},
     "output_type": "execute_result"
    }
   ],
   "source": [
    "# simple arithmetic operations\n",
    "z=np.add(l1,l2)\n",
    "z"
   ]
  },
  {
   "cell_type": "code",
   "execution_count": 16,
   "id": "c3808b6d",
   "metadata": {},
   "outputs": [
    {
     "data": {
      "text/plain": [
       "array([-2, -2, 29, -1])"
      ]
     },
     "execution_count": 16,
     "metadata": {},
     "output_type": "execute_result"
    }
   ],
   "source": [
    "z=np.subtract(l1,l2)\n",
    "z"
   ]
  },
  {
   "cell_type": "code",
   "execution_count": 17,
   "id": "b440fe0a",
   "metadata": {},
   "outputs": [
    {
     "data": {
      "text/plain": [
       "array([  3,   8, 170,  30])"
      ]
     },
     "execution_count": 17,
     "metadata": {},
     "output_type": "execute_result"
    }
   ],
   "source": [
    "z=np.multiply(l1,l2)\n",
    "z"
   ]
  },
  {
   "cell_type": "code",
   "execution_count": 19,
   "id": "9621eaee",
   "metadata": {},
   "outputs": [
    {
     "data": {
      "text/plain": [
       "array([0.33333333, 0.5       , 6.8       , 0.83333333])"
      ]
     },
     "execution_count": 19,
     "metadata": {},
     "output_type": "execute_result"
    }
   ],
   "source": [
    "z=np.divide(l1,l2)\n",
    "z"
   ]
  },
  {
   "cell_type": "code",
   "execution_count": 20,
   "id": "7898222e",
   "metadata": {},
   "outputs": [
    {
     "data": {
      "text/plain": [
       "array([       1,       16, 45435424,    15625], dtype=int32)"
      ]
     },
     "execution_count": 20,
     "metadata": {},
     "output_type": "execute_result"
    }
   ],
   "source": [
    "z=np.power(l1,l2)\n",
    "z"
   ]
  },
  {
   "cell_type": "code",
   "execution_count": 22,
   "id": "744a23e9",
   "metadata": {},
   "outputs": [
    {
     "data": {
      "text/plain": [
       "array([1, 2, 4, 5], dtype=int32)"
      ]
     },
     "execution_count": 22,
     "metadata": {},
     "output_type": "execute_result"
    }
   ],
   "source": [
    "l1=[1,2,34,5]\n",
    "l2=[3,4,5,6]\n",
    "z=np.mod(l1,l2)\n",
    "z"
   ]
  },
  {
   "cell_type": "code",
   "execution_count": 23,
   "id": "72f1817b",
   "metadata": {},
   "outputs": [
    {
     "data": {
      "text/plain": [
       "array([1, 2, 4, 5], dtype=int32)"
      ]
     },
     "execution_count": 23,
     "metadata": {},
     "output_type": "execute_result"
    }
   ],
   "source": [
    "l1=[1,2,34,5]\n",
    "l2=[3,4,5,6]\n",
    "z=np.remainder(l1,l2)\n",
    "z"
   ]
  },
  {
   "cell_type": "code",
   "execution_count": 25,
   "id": "29d4616d",
   "metadata": {},
   "outputs": [
    {
     "data": {
      "text/plain": [
       "(array([0, 0, 6, 0], dtype=int32), array([1, 2, 4, 5], dtype=int32))"
      ]
     },
     "execution_count": 25,
     "metadata": {},
     "output_type": "execute_result"
    }
   ],
   "source": [
    "z=np.divmod(l1,l2)\n",
    "z"
   ]
  },
  {
   "cell_type": "code",
   "execution_count": 29,
   "id": "b28c4044",
   "metadata": {},
   "outputs": [
    {
     "data": {
      "text/plain": [
       "array([1, 3, 0, 9])"
      ]
     },
     "execution_count": 29,
     "metadata": {},
     "output_type": "execute_result"
    }
   ],
   "source": [
    "l1=[-1,-3,0,-9]\n",
    "z=np.absolute(l1)\n",
    "z"
   ]
  },
  {
   "cell_type": "markdown",
   "id": "2a18713d",
   "metadata": {},
   "source": [
    "# roundingDecimals"
   ]
  },
  {
   "cell_type": "code",
   "execution_count": 30,
   "id": "d7cf5b3b",
   "metadata": {},
   "outputs": [
    {
     "data": {
      "text/plain": [
       "array([-3.,  1.])"
      ]
     },
     "execution_count": 30,
     "metadata": {},
     "output_type": "execute_result"
    }
   ],
   "source": [
    "#TRUNCATION\n",
    "a=np.trunc([-3.6667,1.2345])\n",
    "a"
   ]
  },
  {
   "cell_type": "code",
   "execution_count": 31,
   "id": "f2ac7952",
   "metadata": {},
   "outputs": [
    {
     "data": {
      "text/plain": [
       "array([-3.,  1.])"
      ]
     },
     "execution_count": 31,
     "metadata": {},
     "output_type": "execute_result"
    }
   ],
   "source": [
    "a=np.fix([-3.6667,1.2345])\n",
    "a"
   ]
  },
  {
   "cell_type": "code",
   "execution_count": 32,
   "id": "be3ba99e",
   "metadata": {},
   "outputs": [
    {
     "data": {
      "text/plain": [
       "array([-4.,  1.])"
      ]
     },
     "execution_count": 32,
     "metadata": {},
     "output_type": "execute_result"
    }
   ],
   "source": [
    "a=np.around([-3.6667,1.2345])\n",
    "a"
   ]
  },
  {
   "cell_type": "code",
   "execution_count": 33,
   "id": "c6dd1281",
   "metadata": {},
   "outputs": [
    {
     "data": {
      "text/plain": [
       "array([-4.,  1.])"
      ]
     },
     "execution_count": 33,
     "metadata": {},
     "output_type": "execute_result"
    }
   ],
   "source": [
    "a=np.floor([-3.6667,1.2345])\n",
    "a"
   ]
  },
  {
   "cell_type": "code",
   "execution_count": 34,
   "id": "23dc7415",
   "metadata": {},
   "outputs": [
    {
     "data": {
      "text/plain": [
       "array([-3.,  2.])"
      ]
     },
     "execution_count": 34,
     "metadata": {},
     "output_type": "execute_result"
    }
   ],
   "source": [
    "a=np.ceil([-3.6667,1.2345])\n",
    "a"
   ]
  },
  {
   "cell_type": "markdown",
   "id": "a0bc5fd2",
   "metadata": {},
   "source": [
    "#logspace"
   ]
  },
  {
   "cell_type": "code",
   "execution_count": 38,
   "id": "4fbe6da9",
   "metadata": {},
   "outputs": [
    {
     "data": {
      "text/plain": [
       "array([ 100.        ,  104.81131342,  109.8541142 ,  115.13953993,\n",
       "        120.67926406,  126.48552169,  132.57113656,  138.94954944,\n",
       "        145.63484775,  152.64179672,  159.98587196,  167.68329368,\n",
       "        175.75106249,  184.20699693,  193.06977289,  202.35896477,\n",
       "        212.09508879,  222.29964825,  232.99518105,  244.20530945,\n",
       "        255.95479227,  268.26957953,  281.1768698 ,  294.70517026,\n",
       "        308.88435965,  323.74575428,  339.32217719,  355.64803062,\n",
       "        372.75937203,  390.69399371,  409.49150624,  429.19342601,\n",
       "        449.8432669 ,  471.48663635,  494.17133613,  517.94746792,\n",
       "        542.86754393,  568.9866029 ,  596.36233166,  625.05519253,\n",
       "        655.12855686,  686.648845  ,  719.685673  ,  754.31200634,\n",
       "        790.60432109,  828.64277285,  868.51137375,  910.29817799,\n",
       "        954.09547635, 1000.        ])"
      ]
     },
     "execution_count": 38,
     "metadata": {},
     "output_type": "execute_result"
    }
   ],
   "source": [
    "a=np.logspace(2,3)\n",
    "a"
   ]
  },
  {
   "cell_type": "code",
   "execution_count": null,
   "id": "785d9e36",
   "metadata": {},
   "outputs": [],
   "source": []
  },
  {
   "cell_type": "code",
   "execution_count": null,
   "id": "c8bbe0e1",
   "metadata": {},
   "outputs": [],
   "source": []
  },
  {
   "cell_type": "code",
   "execution_count": null,
   "id": "ad326cee",
   "metadata": {},
   "outputs": [],
   "source": []
  },
  {
   "cell_type": "code",
   "execution_count": null,
   "id": "da0cacbf",
   "metadata": {},
   "outputs": [],
   "source": []
  },
  {
   "cell_type": "code",
   "execution_count": 39,
   "id": "9f432ac7",
   "metadata": {},
   "outputs": [
    {
     "data": {
      "text/plain": [
       "array([2.        , 2.02040816, 2.04081633, 2.06122449, 2.08163265,\n",
       "       2.10204082, 2.12244898, 2.14285714, 2.16326531, 2.18367347,\n",
       "       2.20408163, 2.2244898 , 2.24489796, 2.26530612, 2.28571429,\n",
       "       2.30612245, 2.32653061, 2.34693878, 2.36734694, 2.3877551 ,\n",
       "       2.40816327, 2.42857143, 2.44897959, 2.46938776, 2.48979592,\n",
       "       2.51020408, 2.53061224, 2.55102041, 2.57142857, 2.59183673,\n",
       "       2.6122449 , 2.63265306, 2.65306122, 2.67346939, 2.69387755,\n",
       "       2.71428571, 2.73469388, 2.75510204, 2.7755102 , 2.79591837,\n",
       "       2.81632653, 2.83673469, 2.85714286, 2.87755102, 2.89795918,\n",
       "       2.91836735, 2.93877551, 2.95918367, 2.97959184, 3.        ])"
      ]
     },
     "execution_count": 39,
     "metadata": {},
     "output_type": "execute_result"
    }
   ],
   "source": [
    "b=np.log10(a)\n",
    "b"
   ]
  },
  {
   "cell_type": "code",
   "execution_count": 43,
   "id": "d9b36560",
   "metadata": {},
   "outputs": [
    {
     "data": {
      "text/plain": [
       "array([0.        , 0.69314718, 1.09861229, 1.38629436, 1.60943791,\n",
       "       1.79175947, 1.94591015, 2.07944154, 2.19722458])"
      ]
     },
     "execution_count": 43,
     "metadata": {},
     "output_type": "execute_result"
    }
   ],
   "source": [
    "a=np.arange(1,10)\n",
    "b=np.log(a)\n",
    "b"
   ]
  },
  {
   "cell_type": "code",
   "execution_count": 45,
   "id": "e11f1b33",
   "metadata": {},
   "outputs": [
    {
     "name": "stdout",
     "output_type": "stream",
     "text": [
      "2.8613531161467867\n"
     ]
    }
   ],
   "source": [
    "from math import log\n",
    "import numpy as np\n",
    "nplog=np.frompyfunc(log,2,1)\n",
    "print(nplog(100,5))"
   ]
  },
  {
   "cell_type": "code",
   "execution_count": 51,
   "id": "5d256843",
   "metadata": {},
   "outputs": [
    {
     "data": {
      "text/plain": [
       "array([42, 18])"
      ]
     },
     "execution_count": 51,
     "metadata": {},
     "output_type": "execute_result"
    }
   ],
   "source": [
    "l1=[1,2,34,5]\n",
    "l2=[3,4,5,6]\n",
    "n=np.sum([l1,l2],axis=1)\n",
    "n"
   ]
  },
  {
   "cell_type": "code",
   "execution_count": 52,
   "id": "65b27796",
   "metadata": {},
   "outputs": [
    {
     "data": {
      "text/plain": [
       "array([ 1,  3, 37, 42], dtype=int32)"
      ]
     },
     "execution_count": 52,
     "metadata": {},
     "output_type": "execute_result"
    }
   ],
   "source": [
    "np.cumsum(l1)"
   ]
  },
  {
   "cell_type": "code",
   "execution_count": 64,
   "id": "6ad215f0",
   "metadata": {},
   "outputs": [
    {
     "data": {
      "text/plain": [
       "9.0"
      ]
     },
     "execution_count": 64,
     "metadata": {},
     "output_type": "execute_result"
    }
   ],
   "source": [
    "####practise question\n",
    "l1=[ 8,5,7,10,15,21,4,5,8,8,8,9]\n",
    "t=np.sum(l1)\n",
    "mean=t/len(l1)\n",
    "mean"
   ]
  },
  {
   "cell_type": "code",
   "execution_count": 65,
   "id": "c7d825b2",
   "metadata": {},
   "outputs": [
    {
     "name": "stdout",
     "output_type": "stream",
     "text": [
      "8.0\n"
     ]
    }
   ],
   "source": [
    "#median\n",
    "l1.sort()\n",
    "l=len(l1)\n",
    "if (l%2==0):\n",
    "    i=l//2\n",
    "    med=(l1[i]+l1[i-1])/2\n",
    "else:\n",
    "    i=l//2\n",
    "    med=l1[i]\n",
    "print(med)  "
   ]
  },
  {
   "cell_type": "code",
   "execution_count": 76,
   "id": "c9ea6fbe",
   "metadata": {},
   "outputs": [
    {
     "data": {
      "text/plain": [
       "8"
      ]
     },
     "execution_count": 76,
     "metadata": {},
     "output_type": "execute_result"
    }
   ],
   "source": [
    "l2=[]\n",
    "count=[]\n",
    "c=0\n",
    "for i in l1:\n",
    "    if i not in l2:\n",
    "        l2.append(i)\n",
    "        for j in range(len(l1)):\n",
    "            if(i==l1[j]):\n",
    "                c+=1;\n",
    "        count.append(c)\n",
    "        c=0\n",
    "\n",
    "a=np.array([l2,count])\n",
    "b=a.argmax(axis=1)\n",
    "l2[b[1]]\n",
    "#l1=[ 8,5,7,10,15,21,4,5,8,8,8,9]  "
   ]
  },
  {
   "cell_type": "code",
   "execution_count": 87,
   "id": "8466c207",
   "metadata": {},
   "outputs": [
    {
     "name": "stdout",
     "output_type": "stream",
     "text": [
      "[8]\n",
      "4\n"
     ]
    }
   ],
   "source": [
    "import numpy as np\n",
    "l1=[ 8,5,7,10,15,21,4,5,8,8,8,9]  \n",
    "x=np.array(l1)\n",
    "val,count=np.unique(x,return_counts=True)\n",
    "y=np.argwhere(count==np.max(count))\n",
    "print(val[y].flatten().tolist())\n",
    "\n",
    "print(np.max(count))"
   ]
  },
  {
   "cell_type": "code",
   "execution_count": 129,
   "id": "7526a9ec",
   "metadata": {},
   "outputs": [
    {
     "data": {
      "text/plain": [
       "67200"
      ]
     },
     "execution_count": 129,
     "metadata": {},
     "output_type": "execute_result"
    }
   ],
   "source": [
    "import numpy as np\n",
    "a=np.array([8,5,7,10])\n",
    "b=np.array([3,4,1,2])\n",
    "\n",
    "x=np.prod([a,b],axis=None)\n",
    "x"
   ]
  },
  {
   "cell_type": "code",
   "execution_count": null,
   "id": "5b025877",
   "metadata": {},
   "outputs": [],
   "source": []
  },
  {
   "cell_type": "code",
   "execution_count": 130,
   "id": "ce741e07",
   "metadata": {},
   "outputs": [
    {
     "data": {
      "text/plain": [
       "array([   8,   40,  280, 2800], dtype=int32)"
      ]
     },
     "execution_count": 130,
     "metadata": {},
     "output_type": "execute_result"
    }
   ],
   "source": [
    "x=np.cumprod(a)\n",
    "x"
   ]
  },
  {
   "cell_type": "code",
   "execution_count": 133,
   "id": "5e3a50bf",
   "metadata": {},
   "outputs": [
    {
     "data": {
      "text/plain": [
       "array([5, 1])"
      ]
     },
     "execution_count": 133,
     "metadata": {},
     "output_type": "execute_result"
    }
   ],
   "source": [
    "x=np.diff(a,n=2)\n",
    "x"
   ]
  },
  {
   "cell_type": "code",
   "execution_count": 137,
   "id": "6c93cdd1",
   "metadata": {},
   "outputs": [
    {
     "data": {
      "text/plain": [
       "2"
      ]
     },
     "execution_count": 137,
     "metadata": {},
     "output_type": "execute_result"
    }
   ],
   "source": [
    "n1=4\n",
    "n2=6\n",
    "x=np.lcm(n1,n2)\n",
    "x\n",
    "y=np.gcd(n1,n2)\n",
    "y"
   ]
  },
  {
   "cell_type": "code",
   "execution_count": 138,
   "id": "83088021",
   "metadata": {},
   "outputs": [
    {
     "data": {
      "text/plain": [
       "1"
      ]
     },
     "execution_count": 138,
     "metadata": {},
     "output_type": "execute_result"
    }
   ],
   "source": [
    "a=np.array([8,5,7,10])\n",
    "x=np.lcm.reduce(a)\n",
    "x\n",
    "y=np.gcd.reduce(a)\n",
    "y"
   ]
  },
  {
   "cell_type": "markdown",
   "id": "e926e1ea",
   "metadata": {},
   "source": [
    "#set operations"
   ]
  },
  {
   "cell_type": "code",
   "execution_count": 139,
   "id": "b8f21e3d",
   "metadata": {},
   "outputs": [
    {
     "data": {
      "text/plain": [
       "{1, 2, 3, 5, 23}"
      ]
     },
     "execution_count": 139,
     "metadata": {},
     "output_type": "execute_result"
    }
   ],
   "source": [
    "l1=[1,23,3,5,5,2,1,1]\n",
    "s=set(l1)\n",
    "s"
   ]
  },
  {
   "cell_type": "code",
   "execution_count": 141,
   "id": "2d52deaf",
   "metadata": {},
   "outputs": [
    {
     "data": {
      "text/plain": [
       "array([ 1,  2,  3,  5, 23])"
      ]
     },
     "execution_count": 141,
     "metadata": {},
     "output_type": "execute_result"
    }
   ],
   "source": [
    "l1=[1,23,3,5,5,2,1,1]\n",
    "a=np.array(l1)\n",
    "x=np.unique(a)\n",
    "x"
   ]
  },
  {
   "cell_type": "code",
   "execution_count": 152,
   "id": "d014a89b",
   "metadata": {},
   "outputs": [
    {
     "data": {
      "text/plain": [
       "array([ 4,  5, 23, 56, 78, 90])"
      ]
     },
     "execution_count": 152,
     "metadata": {},
     "output_type": "execute_result"
    }
   ],
   "source": [
    "l1=[1,23,3,5,5,2,1,1]\n",
    "a=np.array(l1)\n",
    "l2=[3,4,56,78,1,2,90]\n",
    "b=np.array(l2)\n",
    "new=np.union1d(a,b)\n",
    "new\n",
    "inter=np.intersect1d(a,b)\n",
    "inter\n",
    "d=np.setdiff1d(b,a)\n",
    "d\n",
    "sd=np.setxor1d(b,a)\n",
    "sd"
   ]
  },
  {
   "cell_type": "code",
   "execution_count": 168,
   "id": "e519fd22",
   "metadata": {},
   "outputs": [
    {
     "data": {
      "text/plain": [
       "array([[10.  , 10.85, 11.7 , 12.55, 13.4 , 14.25, 15.1 ],\n",
       "       [15.95, 16.8 , 17.65, 18.5 , 19.35, 20.2 , 21.05],\n",
       "       [21.9 , 22.75, 23.6 , 24.45, 25.3 , 26.15, 27.  ],\n",
       "       [27.85, 28.7 , 29.55, 30.4 , 31.25, 32.1 , 32.95],\n",
       "       [33.8 , 34.65, 35.5 , 36.35, 37.2 , 38.05, 38.9 ],\n",
       "       [39.75, 40.6 , 41.45, 42.3 , 43.15, 44.  , 44.85]])"
      ]
     },
     "execution_count": 168,
     "metadata": {},
     "output_type": "execute_result"
    }
   ],
   "source": [
    "arr=np.arange(10,45,0.85).reshape(-1,7)\n",
    "arr"
   ]
  },
  {
   "cell_type": "code",
   "execution_count": 169,
   "id": "25a84de9",
   "metadata": {},
   "outputs": [
    {
     "data": {
      "text/plain": [
       "2"
      ]
     },
     "execution_count": 169,
     "metadata": {},
     "output_type": "execute_result"
    }
   ],
   "source": [
    "arr.ndim\n"
   ]
  },
  {
   "cell_type": "code",
   "execution_count": 170,
   "id": "d1013956",
   "metadata": {},
   "outputs": [
    {
     "data": {
      "text/plain": [
       "(6, 7)"
      ]
     },
     "execution_count": 170,
     "metadata": {},
     "output_type": "execute_result"
    }
   ],
   "source": [
    "arr.shape"
   ]
  },
  {
   "cell_type": "code",
   "execution_count": 171,
   "id": "bcb0f9dd",
   "metadata": {},
   "outputs": [
    {
     "name": "stdout",
     "output_type": "stream",
     "text": [
      "10.0\n",
      "10.85\n",
      "11.7\n",
      "12.549999999999999\n",
      "13.399999999999999\n",
      "14.249999999999998\n",
      "15.099999999999998\n"
     ]
    }
   ],
   "source": [
    "for i in range(7):\n",
    "    print(arr[0][i])"
   ]
  },
  {
   "cell_type": "code",
   "execution_count": 172,
   "id": "88d65234",
   "metadata": {},
   "outputs": [
    {
     "data": {
      "text/plain": [
       "array([15.95, 16.8 , 17.65, 18.5 , 19.35, 20.2 , 21.05])"
      ]
     },
     "execution_count": 172,
     "metadata": {},
     "output_type": "execute_result"
    }
   ],
   "source": [
    "arr[1]"
   ]
  },
  {
   "cell_type": "code",
   "execution_count": 173,
   "id": "a9e5e323",
   "metadata": {},
   "outputs": [
    {
     "data": {
      "text/plain": [
       "array([33.8 , 34.65, 35.5 , 36.35, 37.2 , 38.05, 38.9 ])"
      ]
     },
     "execution_count": 173,
     "metadata": {},
     "output_type": "execute_result"
    }
   ],
   "source": [
    "arr[4]"
   ]
  },
  {
   "cell_type": "code",
   "execution_count": 175,
   "id": "71f92349",
   "metadata": {},
   "outputs": [
    {
     "data": {
      "text/plain": [
       "32.099999999999994"
      ]
     },
     "execution_count": 175,
     "metadata": {},
     "output_type": "execute_result"
    }
   ],
   "source": [
    "arr[(-3,-2)]"
   ]
  },
  {
   "cell_type": "code",
   "execution_count": null,
   "id": "f0950e41",
   "metadata": {},
   "outputs": [],
   "source": []
  },
  {
   "cell_type": "code",
   "execution_count": 162,
   "id": "46364098",
   "metadata": {},
   "outputs": [
    {
     "data": {
      "text/plain": [
       "array([49.75, 51.45, 53.15, 54.85, 56.55, 58.25, 59.95])"
      ]
     },
     "execution_count": 162,
     "metadata": {},
     "output_type": "execute_result"
    }
   ],
   "source": [
    "arr[1]+arr[4]"
   ]
  },
  {
   "cell_type": "code",
   "execution_count": 164,
   "id": "ed95b2ea",
   "metadata": {},
   "outputs": [
    {
     "data": {
      "text/plain": [
       "24.449999999999996"
      ]
     },
     "execution_count": 164,
     "metadata": {},
     "output_type": "execute_result"
    }
   ],
   "source": [
    "arr[(2,3)]"
   ]
  },
  {
   "cell_type": "code",
   "execution_count": 165,
   "id": "9e550355",
   "metadata": {},
   "outputs": [
    {
     "data": {
      "text/plain": [
       "array([[[10.  , 10.85, 11.7 , 12.55, 13.4 , 14.25, 15.1 ],\n",
       "        [15.95, 16.8 , 17.65, 18.5 , 19.35, 20.2 , 21.05],\n",
       "        [21.9 , 22.75, 23.6 , 24.45, 25.3 , 26.15, 27.  ]],\n",
       "\n",
       "       [[27.85, 28.7 , 29.55, 30.4 , 31.25, 32.1 , 32.95],\n",
       "        [33.8 , 34.65, 35.5 , 36.35, 37.2 , 38.05, 38.9 ],\n",
       "        [39.75, 40.6 , 41.45, 42.3 , 43.15, 44.  , 44.85]]])"
      ]
     },
     "execution_count": 165,
     "metadata": {},
     "output_type": "execute_result"
    }
   ],
   "source": [
    "arr=np.arange(10,45,0.85).reshape(2,-1,7)\n",
    "arr"
   ]
  },
  {
   "cell_type": "code",
   "execution_count": 166,
   "id": "02dbc0eb",
   "metadata": {},
   "outputs": [
    {
     "data": {
      "text/plain": [
       "42.29999999999998"
      ]
     },
     "execution_count": 166,
     "metadata": {},
     "output_type": "execute_result"
    }
   ],
   "source": [
    "arr[(1,2,3)]"
   ]
  },
  {
   "cell_type": "code",
   "execution_count": 176,
   "id": "d42677a1",
   "metadata": {},
   "outputs": [
    {
     "data": {
      "text/plain": [
       "array([[10.  , 10.85, 11.7 , 12.55, 13.4 , 14.25, 15.1 ],\n",
       "       [15.95, 16.8 , 17.65, 18.5 , 19.35, 20.2 , 21.05],\n",
       "       [21.9 , 22.75, 23.6 , 24.45, 25.3 , 26.15, 27.  ],\n",
       "       [27.85, 28.7 , 29.55, 30.4 , 31.25, 32.1 , 32.95],\n",
       "       [33.8 , 34.65, 35.5 , 36.35, 37.2 , 38.05, 38.9 ],\n",
       "       [39.75, 40.6 , 41.45, 42.3 , 43.15, 44.  , 44.85]])"
      ]
     },
     "execution_count": 176,
     "metadata": {},
     "output_type": "execute_result"
    }
   ],
   "source": [
    "arr=np.arange(10,45,0.85).reshape(-1,7)\n",
    "arr"
   ]
  },
  {
   "cell_type": "code",
   "execution_count": 177,
   "id": "67a5e5df",
   "metadata": {},
   "outputs": [
    {
     "data": {
      "text/plain": [
       "array([[33.8 , 34.65, 35.5 , 36.35, 37.2 , 38.05, 38.9 ],\n",
       "       [39.75, 40.6 , 41.45, 42.3 , 43.15, 44.  , 44.85]])"
      ]
     },
     "execution_count": 177,
     "metadata": {},
     "output_type": "execute_result"
    }
   ],
   "source": [
    "arr[4:]#entire 4 and 5 row"
   ]
  },
  {
   "cell_type": "code",
   "execution_count": 178,
   "id": "e8fbca28",
   "metadata": {},
   "outputs": [
    {
     "data": {
      "text/plain": [
       "array([[10.  , 10.85, 11.7 , 12.55, 13.4 , 14.25, 15.1 ],\n",
       "       [15.95, 16.8 , 17.65, 18.5 , 19.35, 20.2 , 21.05],\n",
       "       [21.9 , 22.75, 23.6 , 24.45, 25.3 , 26.15, 27.  ],\n",
       "       [27.85, 28.7 , 29.55, 30.4 , 31.25, 32.1 , 32.95]])"
      ]
     },
     "execution_count": 178,
     "metadata": {},
     "output_type": "execute_result"
    }
   ],
   "source": [
    "arr[:4]#0,1,2,3 rows"
   ]
  },
  {
   "cell_type": "code",
   "execution_count": 183,
   "id": "8ea0d733",
   "metadata": {},
   "outputs": [
    {
     "data": {
      "text/plain": [
       "array([15.95, 16.8 ])"
      ]
     },
     "execution_count": 183,
     "metadata": {},
     "output_type": "execute_result"
    }
   ],
   "source": [
    "arr[1,:2]"
   ]
  },
  {
   "cell_type": "code",
   "execution_count": 184,
   "id": "a5937e14",
   "metadata": {},
   "outputs": [
    {
     "data": {
      "text/plain": [
       "array([24.45, 25.3 , 26.15, 27.  ])"
      ]
     },
     "execution_count": 184,
     "metadata": {},
     "output_type": "execute_result"
    }
   ],
   "source": [
    "arr[2,3:]"
   ]
  },
  {
   "cell_type": "code",
   "execution_count": 185,
   "id": "63754fb4",
   "metadata": {},
   "outputs": [
    {
     "data": {
      "text/plain": [
       "array([[10.85, 11.7 , 12.55],\n",
       "       [16.8 , 17.65, 18.5 ]])"
      ]
     },
     "execution_count": 185,
     "metadata": {},
     "output_type": "execute_result"
    }
   ],
   "source": [
    "arr[0:2,1:4]"
   ]
  },
  {
   "cell_type": "code",
   "execution_count": null,
   "id": "a4e825ac",
   "metadata": {},
   "outputs": [],
   "source": []
  },
  {
   "cell_type": "code",
   "execution_count": 189,
   "id": "10c64d4c",
   "metadata": {},
   "outputs": [
    {
     "data": {
      "text/plain": [
       "dtype('<U9')"
      ]
     },
     "execution_count": 189,
     "metadata": {},
     "output_type": "execute_result"
    }
   ],
   "source": [
    "a=np.array(['sachin','virat','yuvraj','234567890'])\n",
    "a.dtype"
   ]
  },
  {
   "cell_type": "code",
   "execution_count": 192,
   "id": "cafc568f",
   "metadata": {},
   "outputs": [
    {
     "data": {
      "text/plain": [
       "array([56,  2,  3])"
      ]
     },
     "execution_count": 192,
     "metadata": {},
     "output_type": "execute_result"
    }
   ],
   "source": [
    "#shallow copy\n",
    "x=np.array([1,2,3])\n",
    "y=x\n",
    "y[0]=56\n",
    "y\n",
    "x"
   ]
  },
  {
   "cell_type": "code",
   "execution_count": 196,
   "id": "79ac55d5",
   "metadata": {},
   "outputs": [
    {
     "data": {
      "text/plain": [
       "array([23,  2,  3])"
      ]
     },
     "execution_count": 196,
     "metadata": {},
     "output_type": "execute_result"
    }
   ],
   "source": [
    "#deepcopy\n",
    "z=np.copy(x)\n",
    "z\n",
    "z[0]=23\n",
    "z"
   ]
  },
  {
   "cell_type": "code",
   "execution_count": 197,
   "id": "ecc2b495",
   "metadata": {},
   "outputs": [
    {
     "data": {
      "text/plain": [
       "array([56,  2,  3])"
      ]
     },
     "execution_count": 197,
     "metadata": {},
     "output_type": "execute_result"
    }
   ],
   "source": [
    "x"
   ]
  },
  {
   "cell_type": "code",
   "execution_count": 200,
   "id": "b28c3340",
   "metadata": {},
   "outputs": [
    {
     "data": {
      "text/plain": [
       "array([[[0, 1, 2],\n",
       "        [1, 2, 3],\n",
       "        [2, 3, 4]],\n",
       "\n",
       "       [[1, 2, 3],\n",
       "        [2, 3, 4],\n",
       "        [3, 4, 5]],\n",
       "\n",
       "       [[2, 3, 4],\n",
       "        [3, 4, 5],\n",
       "        [4, 5, 6]]])"
      ]
     },
     "execution_count": 200,
     "metadata": {},
     "output_type": "execute_result"
    }
   ],
   "source": [
    "#FUNCTIONS\n",
    "np.fromfunction(lambda i,j,k:i+j+k,(3,3,3),dtype='int32')"
   ]
  },
  {
   "cell_type": "code",
   "execution_count": 201,
   "id": "29b5c5dc",
   "metadata": {},
   "outputs": [
    {
     "data": {
      "text/plain": [
       "matrix([[0, 1, 2],\n",
       "        [1, 2, 3],\n",
       "        [2, 3, 4]])"
      ]
     },
     "execution_count": 201,
     "metadata": {},
     "output_type": "execute_result"
    }
   ],
   "source": [
    "a=np.mat(np.fromfunction(lambda i,j:i+j,(3,3),dtype='int32'))"
   ]
  },
  {
   "cell_type": "code",
   "execution_count": 208,
   "id": "a4ee43d6",
   "metadata": {},
   "outputs": [
    {
     "data": {
      "text/plain": [
       "array([[16., 15., 15., 15.],\n",
       "       [15., 16., 15., 15.],\n",
       "       [15., 15., 16., 15.],\n",
       "       [15., 15., 15., 16.]])"
      ]
     },
     "execution_count": 208,
     "metadata": {},
     "output_type": "execute_result"
    }
   ],
   "source": [
    "3*5+np.eye(4)"
   ]
  },
  {
   "cell_type": "code",
   "execution_count": 206,
   "id": "05c68a2e",
   "metadata": {},
   "outputs": [
    {
     "data": {
      "text/plain": [
       "array([[ 1,  0,  0,  0,  0],\n",
       "       [ 0,  2,  0,  0,  0],\n",
       "       [ 0,  0,  3,  0,  0],\n",
       "       [ 0,  0,  0,  4,  0],\n",
       "       [ 0,  0,  0,  0, 56]])"
      ]
     },
     "execution_count": 206,
     "metadata": {},
     "output_type": "execute_result"
    }
   ],
   "source": [
    "np.diag([1,2,3,4,56])"
   ]
  },
  {
   "cell_type": "code",
   "execution_count": 215,
   "id": "4b7146dc",
   "metadata": {},
   "outputs": [
    {
     "data": {
      "text/plain": [
       "matrix([[1, 2],\n",
       "        [3, 4]])"
      ]
     },
     "execution_count": 215,
     "metadata": {},
     "output_type": "execute_result"
    }
   ],
   "source": [
    "a=np.matrix('1,2;3,4')\n",
    "a"
   ]
  },
  {
   "cell_type": "code",
   "execution_count": 216,
   "id": "cae6f92f",
   "metadata": {},
   "outputs": [
    {
     "data": {
      "text/plain": [
       "numpy.matrix"
      ]
     },
     "execution_count": 216,
     "metadata": {},
     "output_type": "execute_result"
    }
   ],
   "source": [
    "type(a)"
   ]
  },
  {
   "cell_type": "code",
   "execution_count": 217,
   "id": "51ebd8dc",
   "metadata": {},
   "outputs": [
    {
     "data": {
      "text/plain": [
       "array([[1, 2],\n",
       "       [3, 4]])"
      ]
     },
     "execution_count": 217,
     "metadata": {},
     "output_type": "execute_result"
    }
   ],
   "source": [
    "a.A"
   ]
  },
  {
   "cell_type": "code",
   "execution_count": 218,
   "id": "ba76475e",
   "metadata": {},
   "outputs": [
    {
     "data": {
      "text/plain": [
       "array([1, 2, 3, 4])"
      ]
     },
     "execution_count": 218,
     "metadata": {},
     "output_type": "execute_result"
    }
   ],
   "source": [
    "a.A1"
   ]
  },
  {
   "cell_type": "code",
   "execution_count": 220,
   "id": "323eeec1",
   "metadata": {},
   "outputs": [
    {
     "data": {
      "text/plain": [
       "matrix([[1, 3],\n",
       "        [2, 4]])"
      ]
     },
     "execution_count": 220,
     "metadata": {},
     "output_type": "execute_result"
    }
   ],
   "source": [
    "a.H#transpose---r to c and c to row"
   ]
  },
  {
   "cell_type": "code",
   "execution_count": 221,
   "id": "dee35a01",
   "metadata": {},
   "outputs": [
    {
     "data": {
      "text/plain": [
       "matrix([[-2. ,  1. ],\n",
       "        [ 1.5, -0.5]])"
      ]
     },
     "execution_count": 221,
     "metadata": {},
     "output_type": "execute_result"
    }
   ],
   "source": [
    "a.I#multiplicative inverse"
   ]
  },
  {
   "cell_type": "code",
   "execution_count": 222,
   "id": "a699992e",
   "metadata": {},
   "outputs": [
    {
     "data": {
      "text/plain": [
       "matrix([[1, 3],\n",
       "        [2, 4]])"
      ]
     },
     "execution_count": 222,
     "metadata": {},
     "output_type": "execute_result"
    }
   ],
   "source": [
    "a.T"
   ]
  },
  {
   "cell_type": "code",
   "execution_count": 235,
   "id": "e4e9d39a",
   "metadata": {},
   "outputs": [
    {
     "data": {
      "text/plain": [
       "matrix([[ 0,  1,  2,  3],\n",
       "        [ 4,  5,  6,  7],\n",
       "        [ 8,  9, 10, 11]])"
      ]
     },
     "execution_count": 235,
     "metadata": {},
     "output_type": "execute_result"
    }
   ],
   "source": [
    "x=np.matrix(np.arange(12).reshape(3,4))\n",
    "x"
   ]
  },
  {
   "cell_type": "code",
   "execution_count": 236,
   "id": "9d94997f",
   "metadata": {},
   "outputs": [
    {
     "data": {
      "text/plain": [
       "matrix([[0, 1, 2, 3]])"
      ]
     },
     "execution_count": 236,
     "metadata": {},
     "output_type": "execute_result"
    }
   ],
   "source": [
    "y=x[0]\n",
    "y"
   ]
  },
  {
   "cell_type": "code",
   "execution_count": 227,
   "id": "2f0c48a8",
   "metadata": {},
   "outputs": [
    {
     "data": {
      "text/plain": [
       "matrix([[ True,  True,  True,  True],\n",
       "        [False, False, False, False],\n",
       "        [False, False, False, False]])"
      ]
     },
     "execution_count": 227,
     "metadata": {},
     "output_type": "execute_result"
    }
   ],
   "source": [
    "x==y"
   ]
  },
  {
   "cell_type": "code",
   "execution_count": 234,
   "id": "00a83286",
   "metadata": {},
   "outputs": [
    {
     "data": {
      "text/plain": [
       "True"
      ]
     },
     "execution_count": 234,
     "metadata": {},
     "output_type": "execute_result"
    }
   ],
   "source": [
    "(x==y).any()"
   ]
  },
  {
   "cell_type": "code",
   "execution_count": 232,
   "id": "db18fc2e",
   "metadata": {},
   "outputs": [
    {
     "data": {
      "text/plain": [
       "matrix([[ True,  True,  True,  True]])"
      ]
     },
     "execution_count": 232,
     "metadata": {},
     "output_type": "execute_result"
    }
   ],
   "source": [
    "(x==y).any(0)"
   ]
  },
  {
   "cell_type": "code",
   "execution_count": 233,
   "id": "62d34eca",
   "metadata": {},
   "outputs": [
    {
     "data": {
      "text/plain": [
       "matrix([[ True],\n",
       "        [False],\n",
       "        [False]])"
      ]
     },
     "execution_count": 233,
     "metadata": {},
     "output_type": "execute_result"
    }
   ],
   "source": [
    "(x==y).any(1)"
   ]
  },
  {
   "cell_type": "code",
   "execution_count": 237,
   "id": "b23c7345",
   "metadata": {},
   "outputs": [
    {
     "data": {
      "text/plain": [
       "11"
      ]
     },
     "execution_count": 237,
     "metadata": {},
     "output_type": "execute_result"
    }
   ],
   "source": [
    "x.argmax()"
   ]
  },
  {
   "cell_type": "code",
   "execution_count": 240,
   "id": "c9337558",
   "metadata": {
    "scrolled": true
   },
   "outputs": [
    {
     "data": {
      "text/plain": [
       "matrix([[3],\n",
       "        [3],\n",
       "        [3]], dtype=int64)"
      ]
     },
     "execution_count": 240,
     "metadata": {},
     "output_type": "execute_result"
    }
   ],
   "source": [
    "x.argmax(1)"
   ]
  },
  {
   "cell_type": "code",
   "execution_count": 241,
   "id": "88e72ab9",
   "metadata": {},
   "outputs": [
    {
     "data": {
      "text/plain": [
       "matrix([[0, 1, 2, 3],\n",
       "        [0, 1, 2, 3],\n",
       "        [0, 1, 2, 3]], dtype=int64)"
      ]
     },
     "execution_count": 241,
     "metadata": {},
     "output_type": "execute_result"
    }
   ],
   "source": [
    "x.argsort()"
   ]
  },
  {
   "cell_type": "code",
   "execution_count": 250,
   "id": "7b068e58",
   "metadata": {},
   "outputs": [
    {
     "data": {
      "text/plain": [
       "array([[0, 0, 0, 0, 0, 0],\n",
       "       [0, 0, 0, 0, 0, 0],\n",
       "       [1, 0, 0, 0, 0, 0],\n",
       "       [0, 2, 0, 0, 0, 0],\n",
       "       [0, 0, 3, 0, 0, 0],\n",
       "       [0, 0, 0, 4, 0, 0]])"
      ]
     },
     "execution_count": 250,
     "metadata": {},
     "output_type": "execute_result"
    }
   ],
   "source": [
    "np.diagflat([[1,2],[3,4]],k=-2)"
   ]
  },
  {
   "cell_type": "code",
   "execution_count": 256,
   "id": "d01b4551",
   "metadata": {},
   "outputs": [
    {
     "data": {
      "text/plain": [
       "array([[0., 0., 0., 0., 0.],\n",
       "       [1., 0., 0., 0., 0.],\n",
       "       [1., 1., 0., 0., 0.]])"
      ]
     },
     "execution_count": 256,
     "metadata": {},
     "output_type": "execute_result"
    }
   ],
   "source": [
    "np.tri(3,5,-1)"
   ]
  },
  {
   "cell_type": "code",
   "execution_count": 260,
   "id": "580091b5",
   "metadata": {},
   "outputs": [
    {
     "data": {
      "text/plain": [
       "array([[ 0,  1,  2,  3],\n",
       "       [ 0,  0,  6,  7],\n",
       "       [ 0,  0,  0, 11]])"
      ]
     },
     "execution_count": 260,
     "metadata": {},
     "output_type": "execute_result"
    }
   ],
   "source": [
    "np.triu(x,1)"
   ]
  },
  {
   "cell_type": "code",
   "execution_count": 308,
   "id": "6ff1a5f7",
   "metadata": {},
   "outputs": [
    {
     "name": "stdout",
     "output_type": "stream",
     "text": [
      "1\n",
      "2\n",
      "2\n"
     ]
    }
   ],
   "source": [
    "import random\n",
    "random.seed(2)\n",
    "print(random.randint(1,6))\n",
    "random.seed(3)\n",
    "print(random.randint(1,6))\n",
    "random.seed(1)\n",
    "print(random.randint(1,6))"
   ]
  },
  {
   "cell_type": "code",
   "execution_count": 310,
   "id": "91a838d3",
   "metadata": {},
   "outputs": [
    {
     "name": "stdout",
     "output_type": "stream",
     "text": [
      "None\n"
     ]
    }
   ],
   "source": [
    "print(random.seed(2))"
   ]
  },
  {
   "cell_type": "code",
   "execution_count": null,
   "id": "0fbeb1e1",
   "metadata": {},
   "outputs": [],
   "source": [
    "random.seed(2)\n"
   ]
  }
 ],
 "metadata": {
  "kernelspec": {
   "display_name": "Python 3 (ipykernel)",
   "language": "python",
   "name": "python3"
  },
  "language_info": {
   "codemirror_mode": {
    "name": "ipython",
    "version": 3
   },
   "file_extension": ".py",
   "mimetype": "text/x-python",
   "name": "python",
   "nbconvert_exporter": "python",
   "pygments_lexer": "ipython3",
   "version": "3.9.7"
  }
 },
 "nbformat": 4,
 "nbformat_minor": 5
}
